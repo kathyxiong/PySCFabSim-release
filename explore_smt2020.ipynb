{
 "cells": [
  {
   "cell_type": "markdown",
   "metadata": {},
   "source": [
    "# Explore SMT2020 datasets"
   ]
  },
  {
   "cell_type": "code",
   "execution_count": 2,
   "metadata": {},
   "outputs": [],
   "source": [
    "import pandas as pd\n",
    "import numpy as np\n",
    "import matplotlib as plt"
   ]
  },
  {
   "cell_type": "markdown",
   "metadata": {},
   "source": [
    "## High Volume Low Mix (HVLM)"
   ]
  },
  {
   "cell_type": "markdown",
   "metadata": {},
   "source": [
    "### tool.txt\n",
    "\n",
    "Info on tools with one tool fam (group of identical tools) per row."
   ]
  },
  {
   "cell_type": "code",
   "execution_count": 2,
   "metadata": {},
   "outputs": [],
   "source": [
    "tool = pd.read_csv(\"datasets/SMT2020_HVLM/tool.txt.1l\", sep=\"\\t\")"
   ]
  },
  {
   "cell_type": "code",
   "execution_count": 3,
   "metadata": {},
   "outputs": [
    {
     "data": {
      "text/html": [
       "<div>\n",
       "<style scoped>\n",
       "    .dataframe tbody tr th:only-of-type {\n",
       "        vertical-align: middle;\n",
       "    }\n",
       "\n",
       "    .dataframe tbody tr th {\n",
       "        vertical-align: top;\n",
       "    }\n",
       "\n",
       "    .dataframe thead th {\n",
       "        text-align: right;\n",
       "    }\n",
       "</style>\n",
       "<table border=\"1\" class=\"dataframe\">\n",
       "  <thead>\n",
       "    <tr style=\"text-align: right;\">\n",
       "      <th></th>\n",
       "      <th>STNFAM</th>\n",
       "      <th>STN</th>\n",
       "      <th>RULE</th>\n",
       "      <th>FWLRANK</th>\n",
       "      <th>WAKERESRANK</th>\n",
       "      <th>BATCHCRITF</th>\n",
       "      <th>BATCHPER</th>\n",
       "      <th>LTIME</th>\n",
       "      <th>LTUNITS</th>\n",
       "      <th>ULTIME</th>\n",
       "      <th>ULTUNITS</th>\n",
       "      <th>STNCAP</th>\n",
       "      <th>STNQTY</th>\n",
       "      <th>STNGRP</th>\n",
       "      <th>STNFAMSTEP_ACTLIST</th>\n",
       "      <th>STNFAMLOC</th>\n",
       "      <th>PRERULERWL</th>\n",
       "      <th>SETUPGRP</th>\n",
       "    </tr>\n",
       "  </thead>\n",
       "  <tbody>\n",
       "    <tr>\n",
       "      <th>0</th>\n",
       "      <td>DE_BE_11</td>\n",
       "      <td>DE_BE_11</td>\n",
       "      <td>rule_HotLotFIRST</td>\n",
       "      <td>rank_HP;rank_RSETUP;rank_FIFO</td>\n",
       "      <td>NaN</td>\n",
       "      <td>NaN</td>\n",
       "      <td>NaN</td>\n",
       "      <td>1.0</td>\n",
       "      <td>min</td>\n",
       "      <td>1.0</td>\n",
       "      <td>min</td>\n",
       "      <td>NaN</td>\n",
       "      <td>10.0</td>\n",
       "      <td>Dry_Etch</td>\n",
       "      <td>Custom_actlist_ASISemiOpersDuringSetupAndAddit...</td>\n",
       "      <td>Fab</td>\n",
       "      <td>no</td>\n",
       "      <td>NaN</td>\n",
       "    </tr>\n",
       "    <tr>\n",
       "      <th>1</th>\n",
       "      <td>DE_BE_12</td>\n",
       "      <td>DE_BE_12</td>\n",
       "      <td>rule_HotLotFIRST</td>\n",
       "      <td>rank_HP;rank_RSETUP;rank_FIFO</td>\n",
       "      <td>NaN</td>\n",
       "      <td>NaN</td>\n",
       "      <td>NaN</td>\n",
       "      <td>1.0</td>\n",
       "      <td>min</td>\n",
       "      <td>1.0</td>\n",
       "      <td>min</td>\n",
       "      <td>NaN</td>\n",
       "      <td>9.0</td>\n",
       "      <td>Dry_Etch</td>\n",
       "      <td>Custom_actlist_ASISemiOpersDuringSetupAndAddit...</td>\n",
       "      <td>Fab</td>\n",
       "      <td>no</td>\n",
       "      <td>NaN</td>\n",
       "    </tr>\n",
       "    <tr>\n",
       "      <th>2</th>\n",
       "      <td>DE_BE_13</td>\n",
       "      <td>DE_BE_13</td>\n",
       "      <td>rule_HotLotFIRST</td>\n",
       "      <td>rank_HP;rank_RSETUP;rank_FIFO</td>\n",
       "      <td>wake_LeastSetupTime</td>\n",
       "      <td>NaN</td>\n",
       "      <td>NaN</td>\n",
       "      <td>1.0</td>\n",
       "      <td>min</td>\n",
       "      <td>1.0</td>\n",
       "      <td>min</td>\n",
       "      <td>NaN</td>\n",
       "      <td>21.0</td>\n",
       "      <td>Dry_Etch</td>\n",
       "      <td>Custom_actlist_ASISemiOpersDuringSetupAndAddit...</td>\n",
       "      <td>Fab</td>\n",
       "      <td>no</td>\n",
       "      <td>NaN</td>\n",
       "    </tr>\n",
       "    <tr>\n",
       "      <th>3</th>\n",
       "      <td>DE_BE_48</td>\n",
       "      <td>DE_BE_48</td>\n",
       "      <td>rule_HotLotFIRST</td>\n",
       "      <td>rank_HP;rank_RSETUP;rank_FIFO</td>\n",
       "      <td>NaN</td>\n",
       "      <td>NaN</td>\n",
       "      <td>NaN</td>\n",
       "      <td>1.0</td>\n",
       "      <td>min</td>\n",
       "      <td>1.0</td>\n",
       "      <td>min</td>\n",
       "      <td>NaN</td>\n",
       "      <td>10.0</td>\n",
       "      <td>Dry_Etch</td>\n",
       "      <td>Custom_actlist_ASISemiOpersDuringSetupAndAddit...</td>\n",
       "      <td>Fab</td>\n",
       "      <td>no</td>\n",
       "      <td>NaN</td>\n",
       "    </tr>\n",
       "    <tr>\n",
       "      <th>4</th>\n",
       "      <td>DE_BE_50</td>\n",
       "      <td>DE_BE_50</td>\n",
       "      <td>rule_HotLotFIRST</td>\n",
       "      <td>rank_HP;rank_RSETUP;rank_FIFO</td>\n",
       "      <td>NaN</td>\n",
       "      <td>NaN</td>\n",
       "      <td>NaN</td>\n",
       "      <td>1.0</td>\n",
       "      <td>min</td>\n",
       "      <td>1.0</td>\n",
       "      <td>min</td>\n",
       "      <td>NaN</td>\n",
       "      <td>9.0</td>\n",
       "      <td>Dry_Etch</td>\n",
       "      <td>Custom_actlist_ASISemiOpersDuringSetupAndAddit...</td>\n",
       "      <td>Fab</td>\n",
       "      <td>no</td>\n",
       "      <td>NaN</td>\n",
       "    </tr>\n",
       "  </tbody>\n",
       "</table>\n",
       "</div>"
      ],
      "text/plain": [
       "     STNFAM       STN              RULE                        FWLRANK  \\\n",
       "0  DE_BE_11  DE_BE_11  rule_HotLotFIRST  rank_HP;rank_RSETUP;rank_FIFO   \n",
       "1  DE_BE_12  DE_BE_12  rule_HotLotFIRST  rank_HP;rank_RSETUP;rank_FIFO   \n",
       "2  DE_BE_13  DE_BE_13  rule_HotLotFIRST  rank_HP;rank_RSETUP;rank_FIFO   \n",
       "3  DE_BE_48  DE_BE_48  rule_HotLotFIRST  rank_HP;rank_RSETUP;rank_FIFO   \n",
       "4  DE_BE_50  DE_BE_50  rule_HotLotFIRST  rank_HP;rank_RSETUP;rank_FIFO   \n",
       "\n",
       "           WAKERESRANK BATCHCRITF BATCHPER  LTIME LTUNITS  ULTIME ULTUNITS  \\\n",
       "0                  NaN        NaN      NaN    1.0     min     1.0      min   \n",
       "1                  NaN        NaN      NaN    1.0     min     1.0      min   \n",
       "2  wake_LeastSetupTime        NaN      NaN    1.0     min     1.0      min   \n",
       "3                  NaN        NaN      NaN    1.0     min     1.0      min   \n",
       "4                  NaN        NaN      NaN    1.0     min     1.0      min   \n",
       "\n",
       "   STNCAP  STNQTY    STNGRP  \\\n",
       "0     NaN    10.0  Dry_Etch   \n",
       "1     NaN     9.0  Dry_Etch   \n",
       "2     NaN    21.0  Dry_Etch   \n",
       "3     NaN    10.0  Dry_Etch   \n",
       "4     NaN     9.0  Dry_Etch   \n",
       "\n",
       "                                  STNFAMSTEP_ACTLIST STNFAMLOC PRERULERWL  \\\n",
       "0  Custom_actlist_ASISemiOpersDuringSetupAndAddit...       Fab         no   \n",
       "1  Custom_actlist_ASISemiOpersDuringSetupAndAddit...       Fab         no   \n",
       "2  Custom_actlist_ASISemiOpersDuringSetupAndAddit...       Fab         no   \n",
       "3  Custom_actlist_ASISemiOpersDuringSetupAndAddit...       Fab         no   \n",
       "4  Custom_actlist_ASISemiOpersDuringSetupAndAddit...       Fab         no   \n",
       "\n",
       "  SETUPGRP  \n",
       "0      NaN  \n",
       "1      NaN  \n",
       "2      NaN  \n",
       "3      NaN  \n",
       "4      NaN  "
      ]
     },
     "execution_count": 3,
     "metadata": {},
     "output_type": "execute_result"
    }
   ],
   "source": [
    "tool.head()"
   ]
  },
  {
   "cell_type": "markdown",
   "metadata": {},
   "source": [
    "Looks like a flattened version of `tool.txt` described in dataset documentation (repeated rows that only differ in FWLRANK are combined, for example, and multiple FWLRANK values are listed in one cell separated by \";\")."
   ]
  },
  {
   "cell_type": "code",
   "execution_count": 12,
   "metadata": {},
   "outputs": [
    {
     "data": {
      "text/plain": [
       "(106, 18)"
      ]
     },
     "execution_count": 12,
     "metadata": {},
     "output_type": "execute_result"
    }
   ],
   "source": [
    "tool.shape"
   ]
  },
  {
   "cell_type": "code",
   "execution_count": 13,
   "metadata": {},
   "outputs": [
    {
     "data": {
      "text/plain": [
       "Index(['STNFAM', 'STN', 'RULE', 'FWLRANK', 'WAKERESRANK', 'BATCHCRITF',\n",
       "       'BATCHPER', 'LTIME', 'LTUNITS', 'ULTIME', 'ULTUNITS', 'STNCAP',\n",
       "       'STNQTY', 'STNGRP', 'STNFAMSTEP_ACTLIST', 'STNFAMLOC', 'PRERULERWL',\n",
       "       'SETUPGRP'],\n",
       "      dtype='object')"
      ]
     },
     "execution_count": 13,
     "metadata": {},
     "output_type": "execute_result"
    }
   ],
   "source": [
    "tool.columns"
   ]
  },
  {
   "cell_type": "code",
   "execution_count": 8,
   "metadata": {},
   "outputs": [
    {
     "data": {
      "text/plain": [
       "106"
      ]
     },
     "execution_count": 8,
     "metadata": {},
     "output_type": "execute_result"
    }
   ],
   "source": [
    "# how many distinct STNFAM?\n",
    "tool[\"STNFAM\"].nunique()"
   ]
  },
  {
   "cell_type": "code",
   "execution_count": 31,
   "metadata": {},
   "outputs": [
    {
     "data": {
      "text/plain": [
       "Text(0, 0.5, 'Freq')"
      ]
     },
     "execution_count": 31,
     "metadata": {},
     "output_type": "execute_result"
    },
    {
     "data": {
      "image/png": "[encoded data removed]",
      "text/plain": [
       "<Figure size 640x480 with 1 Axes>"
      ]
     },
     "metadata": {},
     "output_type": "display_data"
    }
   ],
   "source": [
    "# distribution of STNQTY (num tools in tool fam)\n",
    "ax = tool[\"STNQTY\"].hist()\n",
    "ax.set_xlabel(\"Tool count\")\n",
    "ax.set_ylabel(\"Freq\")"
   ]
  },
  {
   "cell_type": "code",
   "execution_count": null,
   "metadata": {},
   "outputs": [
    {
     "data": {
      "text/plain": [
       "STNFAM\n",
       "Delay_32             400.0\n",
       "DE_FE_86             135.0\n",
       "LithoTrack_FE_115     51.0\n",
       "LithoTrack_FE_95      49.0\n",
       "WE_FE_108             35.0\n",
       "                     ...  \n",
       "TF_Met_FE_45           2.0\n",
       "DefMet_BE_42           1.0\n",
       "DefMet_FE_106          1.0\n",
       "EPI_38                 1.0\n",
       "WE_BE_7                1.0\n",
       "Name: STNQTY, Length: 106, dtype: float64"
      ]
     },
     "execution_count": 19,
     "metadata": {},
     "output_type": "execute_result"
    }
   ],
   "source": [
    "# what are the tool fams with very high tool counts?\n",
    "tool.set_index(\"STNFAM\")[\"STNQTY\"].sort_values(ascending=False)"
   ]
  },
  {
   "cell_type": "code",
   "execution_count": 20,
   "metadata": {},
   "outputs": [
    {
     "data": {
      "text/plain": [
       "STN                                                              Delay1\n",
       "RULE                                                   rule_HotLotFIRST\n",
       "FWLRANK                                   rank_HP;rank_RSETUP;rank_FIFO\n",
       "WAKERESRANK                                                         NaN\n",
       "BATCHCRITF                                                          NaN\n",
       "BATCHPER                                                            NaN\n",
       "LTIME                                                               0.0\n",
       "LTUNITS                                                             min\n",
       "ULTIME                                                              0.0\n",
       "ULTUNITS                                                            min\n",
       "STNCAP                                                              NaN\n",
       "STNQTY                                                            400.0\n",
       "STNGRP                                                         Delay_32\n",
       "STNFAMSTEP_ACTLIST    Custom_actlist_ASISemiOpersDuringSetupAndAddit...\n",
       "STNFAMLOC                                                         Delay\n",
       "PRERULERWL                                                           no\n",
       "SETUPGRP                                                            NaN\n",
       "Name: Delay_32, dtype: object"
      ]
     },
     "execution_count": 20,
     "metadata": {},
     "output_type": "execute_result"
    }
   ],
   "source": [
    "tool.set_index(\"STNFAM\").loc[\"Delay_32\"]"
   ]
  },
  {
   "cell_type": "code",
   "execution_count": 21,
   "metadata": {},
   "outputs": [
    {
     "data": {
      "text/plain": [
       "STN                                                            DE_FE_86\n",
       "RULE                                                   rule_HotLotFIRST\n",
       "FWLRANK                                   rank_HP;rank_RSETUP;rank_FIFO\n",
       "WAKERESRANK                                                         NaN\n",
       "BATCHCRITF                                                          NaN\n",
       "BATCHPER                                                            NaN\n",
       "LTIME                                                               1.0\n",
       "LTUNITS                                                             min\n",
       "ULTIME                                                              1.0\n",
       "ULTUNITS                                                            min\n",
       "STNCAP                                                              NaN\n",
       "STNQTY                                                            135.0\n",
       "STNGRP                                                         Dry_Etch\n",
       "STNFAMSTEP_ACTLIST    Custom_actlist_ASISemiOpersDuringSetupAndAddit...\n",
       "STNFAMLOC                                                           Fab\n",
       "PRERULERWL                                                           no\n",
       "SETUPGRP                                                            NaN\n",
       "Name: DE_FE_86, dtype: object"
      ]
     },
     "execution_count": 21,
     "metadata": {},
     "output_type": "execute_result"
    }
   ],
   "source": [
    "tool.set_index(\"STNFAM\").loc[\"DE_FE_86\"]"
   ]
  },
  {
   "cell_type": "markdown",
   "metadata": {},
   "source": [
    "**Q**: Delay steps are mentioned in documentation - what are these?\n",
    "\n",
    "**Q**: Does tool count make sense for Dry Etch step?"
   ]
  },
  {
   "cell_type": "code",
   "execution_count": 33,
   "metadata": {},
   "outputs": [
    {
     "data": {
      "text/plain": [
       "Text(0, 0.5, 'Freq')"
      ]
     },
     "execution_count": 33,
     "metadata": {},
     "output_type": "execute_result"
    },
    {
     "data": {
      "image/png": "[encoded data removed]",
      "text/plain": [
       "<Figure size 640x480 with 1 Axes>"
      ]
     },
     "metadata": {},
     "output_type": "display_data"
    }
   ],
   "source": [
    "# replot excluding Delay and Dry Etch tool fams with high tool counts\n",
    "ax = tool[\"STNQTY\"].hist(range=(0, 60), bins=12)\n",
    "ax.set_xlabel(\"Tool count\")\n",
    "ax.set_ylabel(\"Freq\")"
   ]
  },
  {
   "cell_type": "code",
   "execution_count": 36,
   "metadata": {},
   "outputs": [
    {
     "data": {
      "text/plain": [
       "STNGRP\n",
       "Def_Met        7\n",
       "Delay_32       1\n",
       "Dielectric    10\n",
       "Diffusion     10\n",
       "Dry_Etch      21\n",
       "Implant        9\n",
       "Litho         11\n",
       "Litho_Met      4\n",
       "Planar         6\n",
       "TF            11\n",
       "TF_Met         2\n",
       "Wet_Etch      14\n",
       "Name: STNGRP, dtype: int64"
      ]
     },
     "execution_count": 36,
     "metadata": {},
     "output_type": "execute_result"
    }
   ],
   "source": [
    "# tool fam count by tool group (mfg area)\n",
    "tool.groupby(\"STNGRP\")[\"STNGRP\"].count()"
   ]
  },
  {
   "cell_type": "code",
   "execution_count": 37,
   "metadata": {},
   "outputs": [
    {
     "data": {
      "text/plain": [
       "STNGRP\n",
       "Def_Met        16.0\n",
       "Delay_32      400.0\n",
       "Dielectric     59.0\n",
       "Diffusion      75.0\n",
       "Dry_Etch      362.0\n",
       "Implant        35.0\n",
       "Litho         203.0\n",
       "Litho_Met      53.0\n",
       "Planar         34.0\n",
       "TF             90.0\n",
       "TF_Met          4.0\n",
       "Wet_Etch      112.0\n",
       "Name: STNQTY, dtype: float64"
      ]
     },
     "execution_count": 37,
     "metadata": {},
     "output_type": "execute_result"
    }
   ],
   "source": [
    "# tool count by tool group\n",
    "tool.groupby(\"STNGRP\")[\"STNQTY\"].sum()"
   ]
  },
  {
   "cell_type": "markdown",
   "metadata": {},
   "source": [
    "Tool fam & tool counts match documentation (IEEE paper), but Delay_32 was not mentioned in paper.\n",
    "\n",
    "**Q**: What is Delay_32 tool group?"
   ]
  },
  {
   "cell_type": "markdown",
   "metadata": {},
   "source": [
    "### part.txt\n",
    "\n",
    "Info on products and associated routes, with one product per row."
   ]
  },
  {
   "cell_type": "code",
   "execution_count": 8,
   "metadata": {},
   "outputs": [],
   "source": [
    "part = pd.read_csv(\"datasets/SMT2020_HVLM/part.txt\", sep=\"\\t\")"
   ]
  },
  {
   "cell_type": "code",
   "execution_count": 9,
   "metadata": {},
   "outputs": [
    {
     "data": {
      "text/plain": [
       "(2, 5)"
      ]
     },
     "execution_count": 9,
     "metadata": {},
     "output_type": "execute_result"
    }
   ],
   "source": [
    "part.shape"
   ]
  },
  {
   "cell_type": "code",
   "execution_count": 10,
   "metadata": {},
   "outputs": [
    {
     "data": {
      "text/html": [
       "<div>\n",
       "<style scoped>\n",
       "    .dataframe tbody tr th:only-of-type {\n",
       "        vertical-align: middle;\n",
       "    }\n",
       "\n",
       "    .dataframe tbody tr th {\n",
       "        vertical-align: top;\n",
       "    }\n",
       "\n",
       "    .dataframe thead th {\n",
       "        text-align: right;\n",
       "    }\n",
       "</style>\n",
       "<table border=\"1\" class=\"dataframe\">\n",
       "  <thead>\n",
       "    <tr style=\"text-align: right;\">\n",
       "      <th></th>\n",
       "      <th>PARTGRP</th>\n",
       "      <th>PARTFAM</th>\n",
       "      <th>PART</th>\n",
       "      <th>ROUTEFILE</th>\n",
       "      <th>ROUTE</th>\n",
       "    </tr>\n",
       "  </thead>\n",
       "  <tbody>\n",
       "    <tr>\n",
       "      <th>0</th>\n",
       "      <td>Saleable</td>\n",
       "      <td>product_3</td>\n",
       "      <td>part_3</td>\n",
       "      <td>route_3.txt</td>\n",
       "      <td>r_3</td>\n",
       "    </tr>\n",
       "    <tr>\n",
       "      <th>1</th>\n",
       "      <td>Saleable</td>\n",
       "      <td>product_4</td>\n",
       "      <td>part_4</td>\n",
       "      <td>route_4.txt</td>\n",
       "      <td>r_4</td>\n",
       "    </tr>\n",
       "  </tbody>\n",
       "</table>\n",
       "</div>"
      ],
      "text/plain": [
       "    PARTGRP    PARTFAM    PART    ROUTEFILE ROUTE\n",
       "0  Saleable  product_3  part_3  route_3.txt   r_3\n",
       "1  Saleable  product_4  part_4  route_4.txt   r_4"
      ]
     },
     "execution_count": 10,
     "metadata": {},
     "output_type": "execute_result"
    }
   ],
   "source": [
    "part"
   ]
  },
  {
   "cell_type": "markdown",
   "metadata": {},
   "source": []
  },
  {
   "cell_type": "markdown",
   "metadata": {},
   "source": [
    "### route_i.txt\n",
    "\n",
    "Info on each process step for a specific route, with one step per row, listed in order of processing sequence."
   ]
  },
  {
   "cell_type": "code",
   "execution_count": 41,
   "metadata": {},
   "outputs": [],
   "source": [
    "route_3 = pd.read_csv(\"datasets/SMT2020_HVLM/route_3.txt\", sep=\"\\t\")"
   ]
  },
  {
   "cell_type": "code",
   "execution_count": 42,
   "metadata": {},
   "outputs": [
    {
     "data": {
      "text/plain": [
       "(583, 29)"
      ]
     },
     "execution_count": 42,
     "metadata": {},
     "output_type": "execute_result"
    }
   ],
   "source": [
    "route_3.shape"
   ]
  },
  {
   "cell_type": "code",
   "execution_count": 43,
   "metadata": {},
   "outputs": [
    {
     "data": {
      "text/html": [
       "<div>\n",
       "<style scoped>\n",
       "    .dataframe tbody tr th:only-of-type {\n",
       "        vertical-align: middle;\n",
       "    }\n",
       "\n",
       "    .dataframe tbody tr th {\n",
       "        vertical-align: top;\n",
       "    }\n",
       "\n",
       "    .dataframe thead th {\n",
       "        text-align: right;\n",
       "    }\n",
       "</style>\n",
       "<table border=\"1\" class=\"dataframe\">\n",
       "  <thead>\n",
       "    <tr style=\"text-align: right;\">\n",
       "      <th></th>\n",
       "      <th>ROUTE</th>\n",
       "      <th>STEP</th>\n",
       "      <th>DESC</th>\n",
       "      <th>STNFAM</th>\n",
       "      <th>PDIST</th>\n",
       "      <th>PTIME</th>\n",
       "      <th>PTIME2</th>\n",
       "      <th>PTUNITS</th>\n",
       "      <th>PTPER</th>\n",
       "      <th>BATCHMN</th>\n",
       "      <th>...</th>\n",
       "      <th>PartInterval</th>\n",
       "      <th>PartIntUnits</th>\n",
       "      <th>RWKSTEP</th>\n",
       "      <th>REWORK</th>\n",
       "      <th>RWKTYPE</th>\n",
       "      <th>StepPercent</th>\n",
       "      <th>STEP_CQT</th>\n",
       "      <th>CQT</th>\n",
       "      <th>CQTUNITS</th>\n",
       "      <th>IGNORE</th>\n",
       "    </tr>\n",
       "  </thead>\n",
       "  <tbody>\n",
       "    <tr>\n",
       "      <th>0</th>\n",
       "      <td>r_3</td>\n",
       "      <td>1</td>\n",
       "      <td>001_Diffusion</td>\n",
       "      <td>Diffusion_FE_120</td>\n",
       "      <td>uniform</td>\n",
       "      <td>501.330</td>\n",
       "      <td>25.0665</td>\n",
       "      <td>min</td>\n",
       "      <td>per_batch</td>\n",
       "      <td>125.0</td>\n",
       "      <td>...</td>\n",
       "      <td>NaN</td>\n",
       "      <td>NaN</td>\n",
       "      <td>NaN</td>\n",
       "      <td>NaN</td>\n",
       "      <td>NaN</td>\n",
       "      <td>NaN</td>\n",
       "      <td>NaN</td>\n",
       "      <td>NaN</td>\n",
       "      <td>NaN</td>\n",
       "      <td>Diffusion</td>\n",
       "    </tr>\n",
       "    <tr>\n",
       "      <th>1</th>\n",
       "      <td>r_3</td>\n",
       "      <td>2</td>\n",
       "      <td>002_Wet_Etch</td>\n",
       "      <td>WE_FE_84</td>\n",
       "      <td>uniform</td>\n",
       "      <td>0.852</td>\n",
       "      <td>0.0426</td>\n",
       "      <td>min</td>\n",
       "      <td>per_piece</td>\n",
       "      <td>NaN</td>\n",
       "      <td>...</td>\n",
       "      <td>0.639</td>\n",
       "      <td>min</td>\n",
       "      <td>NaN</td>\n",
       "      <td>NaN</td>\n",
       "      <td>NaN</td>\n",
       "      <td>NaN</td>\n",
       "      <td>NaN</td>\n",
       "      <td>NaN</td>\n",
       "      <td>NaN</td>\n",
       "      <td>Wet_Etch</td>\n",
       "    </tr>\n",
       "    <tr>\n",
       "      <th>2</th>\n",
       "      <td>r_3</td>\n",
       "      <td>3</td>\n",
       "      <td>003_Def_Met</td>\n",
       "      <td>DefMEt_FE_118</td>\n",
       "      <td>uniform</td>\n",
       "      <td>17.994</td>\n",
       "      <td>0.8997</td>\n",
       "      <td>min</td>\n",
       "      <td>per_lot</td>\n",
       "      <td>NaN</td>\n",
       "      <td>...</td>\n",
       "      <td>NaN</td>\n",
       "      <td>NaN</td>\n",
       "      <td>NaN</td>\n",
       "      <td>NaN</td>\n",
       "      <td>NaN</td>\n",
       "      <td>56.0</td>\n",
       "      <td>NaN</td>\n",
       "      <td>NaN</td>\n",
       "      <td>NaN</td>\n",
       "      <td>Def_Met</td>\n",
       "    </tr>\n",
       "    <tr>\n",
       "      <th>3</th>\n",
       "      <td>r_3</td>\n",
       "      <td>4</td>\n",
       "      <td>007_TF_Met</td>\n",
       "      <td>TF_Met_FE_45</td>\n",
       "      <td>uniform</td>\n",
       "      <td>8.514</td>\n",
       "      <td>0.4257</td>\n",
       "      <td>min</td>\n",
       "      <td>per_lot</td>\n",
       "      <td>NaN</td>\n",
       "      <td>...</td>\n",
       "      <td>NaN</td>\n",
       "      <td>NaN</td>\n",
       "      <td>NaN</td>\n",
       "      <td>NaN</td>\n",
       "      <td>NaN</td>\n",
       "      <td>36.0</td>\n",
       "      <td>NaN</td>\n",
       "      <td>NaN</td>\n",
       "      <td>NaN</td>\n",
       "      <td>TF_Met</td>\n",
       "    </tr>\n",
       "    <tr>\n",
       "      <th>4</th>\n",
       "      <td>r_3</td>\n",
       "      <td>5</td>\n",
       "      <td>008_Diffusion</td>\n",
       "      <td>Diffusion_FE_127</td>\n",
       "      <td>uniform</td>\n",
       "      <td>437.580</td>\n",
       "      <td>21.8790</td>\n",
       "      <td>min</td>\n",
       "      <td>per_batch</td>\n",
       "      <td>100.0</td>\n",
       "      <td>...</td>\n",
       "      <td>NaN</td>\n",
       "      <td>NaN</td>\n",
       "      <td>NaN</td>\n",
       "      <td>NaN</td>\n",
       "      <td>NaN</td>\n",
       "      <td>NaN</td>\n",
       "      <td>NaN</td>\n",
       "      <td>NaN</td>\n",
       "      <td>NaN</td>\n",
       "      <td>Diffusion</td>\n",
       "    </tr>\n",
       "  </tbody>\n",
       "</table>\n",
       "<p>5 rows × 29 columns</p>\n",
       "</div>"
      ],
      "text/plain": [
       "  ROUTE  STEP           DESC            STNFAM    PDIST    PTIME   PTIME2  \\\n",
       "0   r_3     1  001_Diffusion  Diffusion_FE_120  uniform  501.330  25.0665   \n",
       "1   r_3     2   002_Wet_Etch          WE_FE_84  uniform    0.852   0.0426   \n",
       "2   r_3     3    003_Def_Met     DefMEt_FE_118  uniform   17.994   0.8997   \n",
       "3   r_3     4     007_TF_Met      TF_Met_FE_45  uniform    8.514   0.4257   \n",
       "4   r_3     5  008_Diffusion  Diffusion_FE_127  uniform  437.580  21.8790   \n",
       "\n",
       "  PTUNITS      PTPER  BATCHMN  ...  PartInterval PartIntUnits RWKSTEP  REWORK  \\\n",
       "0     min  per_batch    125.0  ...           NaN          NaN     NaN     NaN   \n",
       "1     min  per_piece      NaN  ...         0.639          min     NaN     NaN   \n",
       "2     min    per_lot      NaN  ...           NaN          NaN     NaN     NaN   \n",
       "3     min    per_lot      NaN  ...           NaN          NaN     NaN     NaN   \n",
       "4     min  per_batch    100.0  ...           NaN          NaN     NaN     NaN   \n",
       "\n",
       "  RWKTYPE StepPercent  STEP_CQT  CQT CQTUNITS     IGNORE  \n",
       "0     NaN         NaN       NaN  NaN      NaN  Diffusion  \n",
       "1     NaN         NaN       NaN  NaN      NaN   Wet_Etch  \n",
       "2     NaN        56.0       NaN  NaN      NaN    Def_Met  \n",
       "3     NaN        36.0       NaN  NaN      NaN     TF_Met  \n",
       "4     NaN         NaN       NaN  NaN      NaN  Diffusion  \n",
       "\n",
       "[5 rows x 29 columns]"
      ]
     },
     "execution_count": 43,
     "metadata": {},
     "output_type": "execute_result"
    }
   ],
   "source": [
    "route_3.head()"
   ]
  },
  {
   "cell_type": "code",
   "execution_count": 46,
   "metadata": {},
   "outputs": [
    {
     "data": {
      "text/plain": [
       "ROUTE                         r_3\n",
       "STEP                            1\n",
       "DESC                001_Diffusion\n",
       "STNFAM           Diffusion_FE_120\n",
       "PDIST                     uniform\n",
       "PTIME                      501.33\n",
       "PTIME2                    25.0665\n",
       "PTUNITS                       min\n",
       "PTPER                   per_batch\n",
       "BATCHMN                     125.0\n",
       "BATCHMX                     150.0\n",
       "SETUP                         NaN\n",
       "WHEN                          NaN\n",
       "STIME                         NaN\n",
       "STUNITS                       NaN\n",
       "SVESTN                        NaN\n",
       "FORSTEP                       NaN\n",
       "BatchInterval                 NaN\n",
       "BatchIntUnits                 NaN\n",
       "PartInterval                  NaN\n",
       "PartIntUnits                  NaN\n",
       "RWKSTEP                       NaN\n",
       "REWORK                        NaN\n",
       "RWKTYPE                       NaN\n",
       "StepPercent                   NaN\n",
       "STEP_CQT                      NaN\n",
       "CQT                           NaN\n",
       "CQTUNITS                      NaN\n",
       "IGNORE                  Diffusion\n",
       "Name: 0, dtype: object"
      ]
     },
     "execution_count": 46,
     "metadata": {},
     "output_type": "execute_result"
    }
   ],
   "source": [
    "route_3.loc[0]"
   ]
  },
  {
   "cell_type": "code",
   "execution_count": 47,
   "metadata": {},
   "outputs": [],
   "source": [
    "route_4 = pd.read_csv(\"datasets/SMT2020_HVLM/route_4.txt\", sep=\"\\t\")"
   ]
  },
  {
   "cell_type": "code",
   "execution_count": 48,
   "metadata": {},
   "outputs": [
    {
     "data": {
      "text/plain": [
       "(343, 29)"
      ]
     },
     "execution_count": 48,
     "metadata": {},
     "output_type": "execute_result"
    }
   ],
   "source": [
    "route_4.shape"
   ]
  },
  {
   "cell_type": "markdown",
   "metadata": {},
   "source": [
    "### order.txt\n",
    "\n",
    "Info on lots to be released into simulation model, with one order (combination of product and priority?) per row."
   ]
  },
  {
   "cell_type": "code",
   "execution_count": 3,
   "metadata": {},
   "outputs": [],
   "source": [
    "order = pd.read_csv(\"datasets/SMT2020_HVLM/order.txt\", sep=\"\\t\")"
   ]
  },
  {
   "cell_type": "code",
   "execution_count": 4,
   "metadata": {},
   "outputs": [
    {
     "data": {
      "text/plain": [
       "(5, 13)"
      ]
     },
     "execution_count": 4,
     "metadata": {},
     "output_type": "execute_result"
    }
   ],
   "source": [
    "order.shape"
   ]
  },
  {
   "cell_type": "code",
   "execution_count": 6,
   "metadata": {},
   "outputs": [
    {
     "data": {
      "text/html": [
       "<div>\n",
       "<style scoped>\n",
       "    .dataframe tbody tr th:only-of-type {\n",
       "        vertical-align: middle;\n",
       "    }\n",
       "\n",
       "    .dataframe tbody tr th {\n",
       "        vertical-align: top;\n",
       "    }\n",
       "\n",
       "    .dataframe thead th {\n",
       "        text-align: right;\n",
       "    }\n",
       "</style>\n",
       "<table border=\"1\" class=\"dataframe\">\n",
       "  <thead>\n",
       "    <tr style=\"text-align: right;\">\n",
       "      <th></th>\n",
       "      <th>LOT</th>\n",
       "      <th>PART</th>\n",
       "      <th>PRIOR</th>\n",
       "      <th>PIECES</th>\n",
       "      <th>START</th>\n",
       "      <th>RDIST</th>\n",
       "      <th>REPEAT</th>\n",
       "      <th>RUNITS</th>\n",
       "      <th>RPT#</th>\n",
       "      <th>LOTSPERRPT</th>\n",
       "      <th>DUE</th>\n",
       "      <th>ORDER</th>\n",
       "      <th>HOTLOT</th>\n",
       "    </tr>\n",
       "  </thead>\n",
       "  <tbody>\n",
       "    <tr>\n",
       "      <th>0</th>\n",
       "      <td>Lot_3</td>\n",
       "      <td>part_3</td>\n",
       "      <td>10</td>\n",
       "      <td>25</td>\n",
       "      <td>01/01/18 00:00:00</td>\n",
       "      <td>constant</td>\n",
       "      <td>51.69</td>\n",
       "      <td>min</td>\n",
       "      <td>200000</td>\n",
       "      <td>1</td>\n",
       "      <td>02/23/18 20:07:47</td>\n",
       "      <td>O_Lot_3</td>\n",
       "      <td>no</td>\n",
       "    </tr>\n",
       "    <tr>\n",
       "      <th>1</th>\n",
       "      <td>Lot_4</td>\n",
       "      <td>part_4</td>\n",
       "      <td>10</td>\n",
       "      <td>25</td>\n",
       "      <td>01/01/18 00:00:00</td>\n",
       "      <td>constant</td>\n",
       "      <td>51.69</td>\n",
       "      <td>min</td>\n",
       "      <td>200000</td>\n",
       "      <td>1</td>\n",
       "      <td>01/31/18 07:29:20</td>\n",
       "      <td>O_Lot_4</td>\n",
       "      <td>no</td>\n",
       "    </tr>\n",
       "    <tr>\n",
       "      <th>2</th>\n",
       "      <td>HotLot_3</td>\n",
       "      <td>part_3</td>\n",
       "      <td>20</td>\n",
       "      <td>25</td>\n",
       "      <td>01/01/18 00:00:00</td>\n",
       "      <td>constant</td>\n",
       "      <td>2016.00</td>\n",
       "      <td>min</td>\n",
       "      <td>20000</td>\n",
       "      <td>1</td>\n",
       "      <td>02/03/18 07:59:15</td>\n",
       "      <td>O_HotLot_3</td>\n",
       "      <td>no</td>\n",
       "    </tr>\n",
       "    <tr>\n",
       "      <th>3</th>\n",
       "      <td>HotLot_4</td>\n",
       "      <td>part_4</td>\n",
       "      <td>20</td>\n",
       "      <td>25</td>\n",
       "      <td>01/01/18 00:00:00</td>\n",
       "      <td>constant</td>\n",
       "      <td>2016.00</td>\n",
       "      <td>min</td>\n",
       "      <td>20000</td>\n",
       "      <td>1</td>\n",
       "      <td>01/20/18 13:17:36</td>\n",
       "      <td>O_HotLot_4</td>\n",
       "      <td>no</td>\n",
       "    </tr>\n",
       "    <tr>\n",
       "      <th>4</th>\n",
       "      <td>SuperHotLot_3</td>\n",
       "      <td>part_3</td>\n",
       "      <td>30</td>\n",
       "      <td>25</td>\n",
       "      <td>01/01/18 00:00:00</td>\n",
       "      <td>constant</td>\n",
       "      <td>27397.61</td>\n",
       "      <td>min</td>\n",
       "      <td>2000</td>\n",
       "      <td>1</td>\n",
       "      <td>02/03/18 05:13:01</td>\n",
       "      <td>O_SuperHotLot_3</td>\n",
       "      <td>no</td>\n",
       "    </tr>\n",
       "  </tbody>\n",
       "</table>\n",
       "</div>"
      ],
      "text/plain": [
       "             LOT    PART  PRIOR  PIECES              START     RDIST  \\\n",
       "0          Lot_3  part_3     10      25  01/01/18 00:00:00  constant   \n",
       "1          Lot_4  part_4     10      25  01/01/18 00:00:00  constant   \n",
       "2       HotLot_3  part_3     20      25  01/01/18 00:00:00  constant   \n",
       "3       HotLot_4  part_4     20      25  01/01/18 00:00:00  constant   \n",
       "4  SuperHotLot_3  part_3     30      25  01/01/18 00:00:00  constant   \n",
       "\n",
       "     REPEAT RUNITS    RPT#  LOTSPERRPT                DUE            ORDER  \\\n",
       "0     51.69    min  200000           1  02/23/18 20:07:47          O_Lot_3   \n",
       "1     51.69    min  200000           1  01/31/18 07:29:20          O_Lot_4   \n",
       "2   2016.00    min   20000           1  02/03/18 07:59:15       O_HotLot_3   \n",
       "3   2016.00    min   20000           1  01/20/18 13:17:36       O_HotLot_4   \n",
       "4  27397.61    min    2000           1  02/03/18 05:13:01  O_SuperHotLot_3   \n",
       "\n",
       "  HOTLOT  \n",
       "0     no  \n",
       "1     no  \n",
       "2     no  \n",
       "3     no  \n",
       "4     no  "
      ]
     },
     "execution_count": 6,
     "metadata": {},
     "output_type": "execute_result"
    }
   ],
   "source": [
    "order"
   ]
  },
  {
   "cell_type": "markdown",
   "metadata": {},
   "source": [
    "**Q**: Is this table used to configure lot release cadence? So each order/row represents a different cadence?"
   ]
  },
  {
   "cell_type": "code",
   "execution_count": null,
   "metadata": {},
   "outputs": [],
   "source": []
  }
 ],
 "metadata": {
  "kernelspec": {
   "display_name": "py3gen_eda",
   "language": "python",
   "name": "python3"
  },
  "language_info": {
   "codemirror_mode": {
    "name": "ipython",
    "version": 3
   },
   "file_extension": ".py",
   "mimetype": "text/x-python",
   "name": "python",
   "nbconvert_exporter": "python",
   "pygments_lexer": "ipython3",
   "version": "3.12.8"
  }
 },
 "nbformat": 4,
 "nbformat_minor": 2
}
